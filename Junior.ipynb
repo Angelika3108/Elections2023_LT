{
 "cells": [
  {
   "cell_type": "markdown",
   "id": "28b794a8",
   "metadata": {},
   "source": [
    "Junior \n",
    " \n",
    "Naudodamiesi R arba Python programavimo kalbomis bei aktualiais Lietuvos respublikos įstatymais \n",
    "dvimatėje erdvėje pavaizduokite sąlygas, kurios yra būtinos, kad:  \n",
    "Rezultatus pateikite taip, kad jie būtų suprantami ne tik specialistui.\n",
    " \n",
    "1. kandidatas į Lietuvos Respublikos Prezidentus būtų išrinktas pirmajame rinkimų ture; \n"
   ]
  },
  {
   "cell_type": "code",
   "execution_count": null,
   "id": "355d64f9",
   "metadata": {},
   "outputs": [
    {
     "name": "stdout",
     "output_type": "stream",
     "text": [
      "Lietuvos prezidentu išrinktas kandidatas: Uckuronis\n"
     ]
    }
   ],
   "source": [
    "#presidential election based on Lithuanian rules(majority system)\n",
    "#here we input total_voters, voters_participated, candidates_votes\n",
    "total_voters=int(input('Kiek salyje yra uzregistruotu rinkeju?')) #number of registered voters in country\n",
    "voters_participated=int(input('Kiek rinkeju dalyvavo rinkimuose?')) #Number of voters who participated\n",
    "candidates_votes=[] #(list of tuples): Each tuple is (candidate_surname, votes_received)\n",
    "\n",
    "while True:\n",
    "    surname = input(\"Įveskite kandidato pavarde (arba 'stop' jei baigėte): \")\n",
    "    if surname.lower() == \"stop\":\n",
    "        break\n",
    "    votes = int(input(f\"Kiek balsų gavo {surname}? \"))\n",
    "    candidates_votes.append((surname, votes))\n",
    "\n",
    "# Calculate the thresholds\n",
    "majority_threshold = voters_participated / 2  # More than half of voters_participated\n",
    "one_third_threshold = total_voters / 3        # At least one-third of total-voters\n",
    "\n",
    "# Sort candidates tuples by votes_received in descending order\n",
    "candidates_votes.sort(key=lambda x: x[1], reverse=True)\n",
    "\n",
    "# Get the top (most voted) candidate\n",
    "top_candidate = candidates_votes[0]\n",
    "\n",
    "# Check if at least 50% half of total_voters participated\n",
    "if voters_participated >= total_voters / 2:\n",
    "    # If top candidate got more than half of voters_participated\n",
    "    if top_candidate[1] > majority_threshold:\n",
    "        print(f\"Lietuvos prezidentu išrinktas kandidatas: {top_candidate[0]}\") # Elected\n",
    "    else:\n",
    "        # If no candidate got more than half voters_participated, check number of candidates\n",
    "        if len(candidates_votes) == 2:\n",
    "            print(\"Rengiami pakartotiniai rinkimai (tik 2 kandidatai ir nė vienas negavo daugumos)\")\n",
    "        else:\n",
    "            # Second round of election between top two candidates\n",
    "            print(f\"Rengiamas antras rinkimu turas tarp dvieju stipriausiu kandidatu: {candidates_votes[0][0]} ir {candidates_votes[1][0]}\")\n",
    "else: # If less than 50% of total_voters participated\n",
    "    #if top candidate got more than one-third of voters_participated\n",
    "    if top_candidate[1] >= one_third_threshold:\n",
    "        print(f\"Lietuvos prezidentu išrinktas kandidatas: {top_candidate[0]}\")  # Elected\n",
    "    else:\n",
    "        if len(candidates_votes) == 2:\n",
    "            print(\"Rengiami pakartotiniai rinkimai (tik 2 kandidatai ir nė vienas negavo daugumos)\")\n",
    "        else:\n",
    "            print(f\"Rengiamas antras rinkimu turas tarp dvieju stipriausiu kandidatu: {candidates_votes[0][0]} ir {candidates_votes[1][0]}\")"
   ]
  },
  {
   "cell_type": "markdown",
   "id": "fca232c9",
   "metadata": {},
   "source": [
    "2. kandidatas į mero postą būtų išrinktas pirmajame rinkimų ture; "
   ]
  },
  {
   "cell_type": "code",
   "execution_count": 2,
   "id": "f9295708",
   "metadata": {},
   "outputs": [
    {
     "name": "stdout",
     "output_type": "stream",
     "text": [
      "Savyvaldybes meru išrinktas kandidatas: Salnis\n"
     ]
    }
   ],
   "source": [
    "#mayoral election based on Lithuanian single-member district rules(majority system)\n",
    "total_voters=int(input('Kiek savivaldybei yra uzregistruotu rinkeju?')) #number of registered voters in the district\n",
    "voters_participated=int(input('Kiek rinkeju dalyvavo rinkimuose?')) #number of voters who participated\n",
    "candidates_votes=[] #(list of tuples): each tuple is (candidate_name, votes_received)\n",
    "\n",
    "while True:\n",
    "    surname = input(\"Įveskite kandidato pavarde (arba 'stop' jei baigėte): \")\n",
    "    if surname.lower() == \"stop\":\n",
    "        break\n",
    "    votes = int(input(f\"Kiek balsų gavo {surname}? \"))\n",
    "    candidates_votes.append((surname, votes))\n",
    "\n",
    "# Calculate participation percentage\n",
    "participation_percentage = (voters_participated / total_voters) * 100\n",
    "\n",
    "# Thresholds\n",
    "majority_threshold = voters_participated / 2       # More than half of participants\n",
    "one_fifth_threshold = total_voters / 5             # At least 1/5 of all registered voters\n",
    "\n",
    "# Sort candidates by votes_received (highest first)\n",
    "candidates_votes.sort(key=lambda x: x[1], reverse=True)\n",
    "top_candidate = candidates_votes[0]\n",
    "\n",
    "# Rule 1: If at least 40% of total_voters participated\n",
    "if participation_percentage >= 40:\n",
    "    if top_candidate[1] > majority_threshold:\n",
    "        print(f\"Savyvaldybes meru išrinktas kandidatas: {top_candidate[0]}\")\n",
    "    else:\n",
    "        if len(candidates_votes) == 2:\n",
    "            print(\"Rengiami pakartotiniai mero rinkimai (tik 2 kandidatai ir nė vienas negavo daugumos)\")\n",
    "        else:\n",
    "            print(f\"Rengiamas antras rinkimu turas tarp dvieju stipriausiu kandidatu: {candidates_votes[0][0]} ir {candidates_votes[1][0]}\")\n",
    "\n",
    "# Rule 2: If less than 40% of total_voters participated\n",
    "else:\n",
    "    if top_candidate[1] >= one_fifth_threshold:\n",
    "        print(f\"Savyvaldybes meru išrinktas kandidatas: {top_candidate[0]}\")\n",
    "    else:\n",
    "        if len(candidates_votes) == 2:\n",
    "            print(\"Rengiami pakartotiniai mero rinkimai (tik 2 kandidatai ir nė vienas negavo reikiamo balsų skaičiaus)\")\n",
    "        else:\n",
    "            print(f\"Rengiamas antras rinkimu turas tarp dvieju stipriausiu kandidatu: {candidates_votes[0][0]} ir {candidates_votes[1][0]}\")"
   ]
  },
  {
   "cell_type": "markdown",
   "id": "abb58a88",
   "metadata": {},
   "source": [
    "3. kandidatas į Seimo nario postą būtų išrinktas vienmandatėje apygardoje pirmajame rinkimų \n",
    "ture; "
   ]
  },
  {
   "cell_type": "code",
   "execution_count": 3,
   "id": "a381e855",
   "metadata": {},
   "outputs": [
    {
     "name": "stdout",
     "output_type": "stream",
     "text": [
      "Išrinktas kandidatas: Dudojc\n"
     ]
    }
   ],
   "source": [
    "#Seimas MP election in a single-member district based on two-round majority system.\n",
    "total_voters=int(input('Kiek apygardoi yra uzregistruotu rinkeju?')) #number of registered voters in district\n",
    "voters_participated=int(input('Kiek rinkeju dalyvavo rinkimuose?')) #Number of voters who participated\n",
    "candidates_votes=[] #(list of tuples): Each tuple is (candidate_surname, votes_received)\n",
    "\n",
    "while True:\n",
    "    surname = input(\"Įveskite kandidato pavarde (arba 'stop' jei baigėte): \")\n",
    "    if surname.lower() == \"stop\":\n",
    "        break\n",
    "    votes = int(input(f\"Kiek balsų gavo {surname}? \"))\n",
    "    candidates_votes.append((surname, votes))\n",
    "\n",
    "# Calculate thresholds\n",
    "participation_percent = (voters_participated / total_voters) * 100\n",
    "majority_threshold = voters_participated / 2\n",
    "one_fifth_threshold = total_voters * 0.2  # 20% of total registered voters\n",
    "\n",
    "# Sort candidates by votes in descending order\n",
    "candidates_votes.sort(key=lambda x: x[1], reverse=True)\n",
    "top_candidate = candidates_votes[0]\n",
    "\n",
    "# Rule 1: If participation is at least 40%\n",
    "if participation_percent >= 40:\n",
    "    if top_candidate[1] > majority_threshold:\n",
    "        print(f\"Išrinktas kandidatas: {top_candidate[0]}\")\n",
    "    else:\n",
    "        print(f\"Rengiamas antras turas tarp: {candidates_votes[0][0]} ir {candidates_votes[1][0]}\")\n",
    "\n",
    "# Rule 2: If participation is less than 40%\n",
    "else:\n",
    "    if top_candidate[1] >= one_fifth_threshold:\n",
    "        print(f\"Išrinktas kandidatas: {top_candidate[0]}\")\n",
    "    else:\n",
    "        print(f\"Rengiamas antras turas tarp: {candidates_votes[0][0]} ir {candidates_votes[1][0]}\")"
   ]
  },
  {
   "cell_type": "markdown",
   "id": "445e297d",
   "metadata": {},
   "source": [
    "4. konsultaciniame referendume būtų sėkmingai pritarta referendumui pateikto sprendimo \n",
    "priėmimui; "
   ]
  },
  {
   "cell_type": "code",
   "execution_count": 4,
   "id": "f8e90b5e",
   "metadata": {},
   "outputs": [
    {
     "name": "stdout",
     "output_type": "stream",
     "text": [
      "Referendumas įvyko. Tačiau sprendimas nebuvo priimtas (nepritarė pakankamai rinkėjų).\n"
     ]
    }
   ],
   "source": [
    "#evaluates whether a consultative (advisory) referendum is valid and adopted.\n",
    "total_voters=int(input('Kiek yra uzregistruotu rinkeju?')) #Number of registered voters in country\n",
    "voters_participated=int(input('Kiek rinkeju dalyvavo referendume?')) #Number of voters who participated\n",
    "yes_votes=int(input('Kiek rinkeju prabalsavo uz sprendimo priemima referendume?')) \n",
    "\n",
    "# Calculate percentages\n",
    "participation_percent = (voters_participated / total_voters) * 100\n",
    "yes_vote_percent = (yes_votes / voters_participated) * 100 \n",
    "\n",
    "# Check if more than 50% participated\n",
    "if participation_percent > 50:\n",
    "    # Referendum is valid\n",
    "    if yes_vote_percent >= 50:\n",
    "        print(\"Referendumas įvyko. Sprendimas priimtas. Seimas turi svarstyti klausimą per 1 mėnesį.\")\n",
    "    else:\n",
    "        print(\"Referendumas įvyko. Tačiau sprendimas nebuvo priimtas (nepritarė pakankamai rinkėjų).\")\n",
    "else:\n",
    "    # Referendum is not valid\n",
    "    print(\"Referendumas neįvyko. Tačiau Seimas gali atsižvelgti į piliečių valią.\")"
   ]
  },
  {
   "cell_type": "markdown",
   "id": "874285c8",
   "metadata": {},
   "source": [
    "5. privalomajame referendume būtų sėkmingai pritarta referendumui pateikto sprendimo \n",
    "priėmimui; "
   ]
  },
  {
   "cell_type": "code",
   "execution_count": 5,
   "id": "f675652c",
   "metadata": {},
   "outputs": [
    {
     "name": "stdout",
     "output_type": "stream",
     "text": [
      "Referendumas įvyko. Sprendimas priimtas.\n"
     ]
    }
   ],
   "source": [
    "#Evaluates a mandatory referendum's result\n",
    "total_voters=int(input('Kiek yra uzregistruotu rinkeju?')) #number of registered voters in country\n",
    "voters_participated=int(input('Kiek rinkeju dalyvavo referendume?')) #Number of voters who participated\n",
    "yes_votes=int(input('Kiek rinkeju prabalsavo uz sprendimo priemima referendume?'))\n",
    "\n",
    "# Calculate percentages\n",
    "participation = (voters_participated / total_voters) * 100\n",
    "yes_votes_percent = (yes_votes / voters_participated) * 100 \n",
    "yes_absolute_threshold = total_voters / 3  # At least 1/3 of all registered voters\n",
    "\n",
    "# Step 1: Check if referendum is valid\n",
    "if participation > 50:\n",
    "    # Step 2: Check if the decision is adopted\n",
    "    if yes_votes_percent > 50 and yes_votes >= yes_absolute_threshold:\n",
    "        print(\"Referendumas įvyko. Sprendimas priimtas.\")\n",
    "    else:\n",
    "        print(\"Referendumas įvyko. Tačiau sprendimas nepriimtas (nepakankamai balsų 'už').\")\n",
    "else:\n",
    "    print(\"Referendumas neįvyko (per mažas rinkėjų aktyvumas).\")"
   ]
  },
  {
   "cell_type": "markdown",
   "id": "c2da9b9d",
   "metadata": {},
   "source": [
    "6. privalomajame referendume būtų sėkmingai pritarta dėl Konstitucijos XIV skirsnio nuostatų \n",
    "pakeitimo;"
   ]
  },
  {
   "cell_type": "code",
   "execution_count": 6,
   "id": "652f1584",
   "metadata": {},
   "outputs": [
    {
     "name": "stdout",
     "output_type": "stream",
     "text": [
      "Referendumas įvyko. Tačiau Konstitucijos pataisa nepriimta (nepakankamai balsų 'už').\n"
     ]
    }
   ],
   "source": [
    "#Evaluates a mandatory constitutional referendum (XIV section) for Lithuania \n",
    "total_voters=int(input('Kiek yra uzregistruotu rinkeju?')) #number of registered voters in country\n",
    "voters_participated=int(input('Kiek rinkeju dalyvavo referendume?')) #Number of voters who participated\n",
    "yes_votes=int(input('Kiek rinkeju prabalsavo uz Konstitucijos XIV skirsnio nuostatų pakeitima?'))\n",
    "\n",
    "# Calculate participation percentage\n",
    "participation = (voters_participated / total_voters) * 100\n",
    "yes_percent = (yes_votes / total_voters) * 100\n",
    "\n",
    "# Step 1: Check if referendum is valid (more than 50% participation)\n",
    "if participation > 50:\n",
    "    # Step 2: Check if the decision was adopted (more than 50% of all registered voters voted \"yes\")\n",
    "    if yes_percent > 50:\n",
    "        print(\"Referendumas įvyko. Konstitucijos pataisa priimta.\")\n",
    "    else:\n",
    "        print(\"Referendumas įvyko. Tačiau Konstitucijos pataisa nepriimta (nepakankamai balsų 'už').\")\n",
    "else:\n",
    "    print(\"Referendumas neįvyko (nepakankamas rinkėjų aktyvumas).\")"
   ]
  },
  {
   "cell_type": "markdown",
   "id": "e189731c",
   "metadata": {},
   "source": [
    "7. privalomajame referendume būtų sėkmingai pritarta dėl Konstitucijos 1 straipsnio nuostatos \n",
    "pakeitimo."
   ]
  },
  {
   "cell_type": "code",
   "execution_count": 7,
   "id": "5d63e991",
   "metadata": {},
   "outputs": [
    {
     "name": "stdout",
     "output_type": "stream",
     "text": [
      "Referendumas įvyko. Tačiau sprendimas nepriimtas (nepakanka balsų 'už').\n"
     ]
    }
   ],
   "source": [
    "#Evaluates a high-threshold mandatory referendum (e.g., on Constitution Article 1 of Lithuania).\n",
    "total_voters=int(input('Kiek yra uzregistruotu rinkeju?')) #number of registered voters in country\n",
    "voters_participated=int(input('Kiek rinkeju dalyvavo referendume?')) #Number of voters who participated\n",
    "yes_votes=int(input('Kiek rinkeju prabalsavo uz Konstitucijos 1 straipsnio nuostatos pakeitimo?'))\n",
    "\n",
    "# Calculate percentage\n",
    "participation = (voters_participated / total_voters) * 100\n",
    "yes_percent = (yes_votes / total_voters) * 100\n",
    "\n",
    "# Step 1: Check if referendum is valid (more than 50% turnout)\n",
    "if participation > 50:\n",
    "    # Step 2: Check if decision passed (at least 75% of all voters said \"yes\")\n",
    "    if yes_percent >= 75:\n",
    "        print(\"Referendumas įvyko. Sprendimas priimtas (palaikė ne maziau kaip 3/4 visų rinkėjų).\")\n",
    "    else:\n",
    "        print(\"Referendumas įvyko. Tačiau sprendimas nepriimtas (nepakanka balsų 'už').\")\n",
    "else:\n",
    "    print(\"Referendumas neįvyko (dalyvavo per mažai rinkėjų).\")"
   ]
  }
 ],
 "metadata": {
  "kernelspec": {
   "display_name": "Python 3",
   "language": "python",
   "name": "python3"
  },
  "language_info": {
   "codemirror_mode": {
    "name": "ipython",
    "version": 3
   },
   "file_extension": ".py",
   "mimetype": "text/x-python",
   "name": "python",
   "nbconvert_exporter": "python",
   "pygments_lexer": "ipython3",
   "version": "3.10.11"
  }
 },
 "nbformat": 4,
 "nbformat_minor": 5
}
