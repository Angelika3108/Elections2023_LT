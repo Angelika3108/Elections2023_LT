{
 "cells": [
  {
   "cell_type": "markdown",
   "id": "28b794a8",
   "metadata": {},
   "source": [
    "Junior \n",
    " \n",
    "Naudodamiesi R arba Python programavimo kalbomis bei aktualiais Lietuvos respublikos įstatymais \n",
    "dvimatėje erdvėje pavaizduokite sąlygas, kurios yra būtinos, kad:  \n",
    "Rezultatus pateikite taip, kad jie būtų suprantami ne tik specialistui.\n",
    " \n",
    "1. kandidatas į Lietuvos Respublikos Prezidentus būtų išrinktas pirmajame rinkimų ture; \n"
   ]
  },
  {
   "cell_type": "code",
   "execution_count": null,
   "id": "355d64f9",
   "metadata": {},
   "outputs": [
    {
     "name": "stdout",
     "output_type": "stream",
     "text": [
      "Išrinktas kandidatas: Uckuronis\n"
     ]
    }
   ],
   "source": [
    "#we create function that evaluates a presidential election based on Lithuanian rules(majority system)\n",
    "def president_election(total_voters, voters_participated, candidates_votes):\n",
    "    \"\"\"\n",
    "    Parameters:\n",
    "    total_voters (int): Total number of registered voters in country.\n",
    "    voters_participated (int): Number of voters who participated in the election.\n",
    "    candidates_votes (list of tuples): Each tuple is (candidate_surname, votes_received).\n",
    "    \n",
    "    Returns:\n",
    "    str: Election result or next step.\n",
    "    \"\"\"\n",
    "\n",
    "    # Calculate the thresholds\n",
    "    majority_threshold = voters_participated / 2  # More than half of voters_participated\n",
    "    one_third_threshold = total_voters / 3        # At least one-third of total-voters\n",
    "\n",
    "    # Sort candidates tuples by votes_received in descending order\n",
    "    candidates_votes.sort(key=lambda x: x[1], reverse=True)\n",
    "\n",
    "    # Get the top (most voted) candidate\n",
    "    top_candidate = candidates_votes[0]\n",
    "\n",
    "    # Check if at least 50% half of total_voters participated\n",
    "    if voters_participated >= total_voters / 2:\n",
    "        # If top candidate got more than half of voters_participated\n",
    "        if top_candidate[1] > majority_threshold:\n",
    "            return f\"Lietuvos prezidentu išrinktas kandidatas: {top_candidate[0]}\"  # Elected\n",
    "        else:\n",
    "            # If no candidate got more than half voters_participated, check number of candidates\n",
    "            if len(candidates_votes) == 2:\n",
    "                return \"Rengiami pakartotiniai rinkimai (tik 2 kandidatai ir nė vienas negavo daugumos)\"\n",
    "            else:\n",
    "                # Second round of election between top two candidates\n",
    "                return f\"Rengiamas antras rinkimu turas tarp dvieju stipriausiu kandidatu: {candidates_votes[0][0]} ir {candidates_votes[1][0]}\"\n",
    "    else: # If less than 50% of total_voters participated\n",
    "        #if top candidate got more than one-third of voters_participated\n",
    "        if top_candidate[1] >= one_third_threshold:\n",
    "            return f\"Lietuvos prezidentu išrinktas kandidatas: {top_candidate[0]}\"  # Elected\n",
    "        else:\n",
    "            if len(candidates_votes) == 2:\n",
    "                return \"Rengiami pakartotiniai rinkimai (tik 2 kandidatai ir nė vienas negavo daugumos)\"\n",
    "            else:\n",
    "                return f\"Rengiamas antras rinkimu turas tarp dvieju stipriausiu kandidatu: {candidates_votes[0][0]} ir {candidates_votes[1][0]}\"\n",
    "\n",
    "#here we input total_voters, voters_participated, candidates_votes\n",
    "total_voters=int(input('Kiek salyje yra uzregistruotu rinkeju?'))\n",
    "voters_participated=int(input('Kiek rinkeju dalyvavo rinkimuose?'))\n",
    "candidates_votes=[]\n",
    "while True:\n",
    "    surname = input(\"Įveskite kandidato pavarde (arba 'stop' jei baigėte): \")\n",
    "    if surname.lower() == \"stop\":\n",
    "        break\n",
    "    votes = int(input(f\"Kiek balsų gavo {surname}? \"))\n",
    "    candidates_votes.append((surname, votes))\n",
    "\n",
    "print(president_election(total_voters, voters_participated, candidates_votes))"
   ]
  },
  {
   "cell_type": "markdown",
   "id": "fca232c9",
   "metadata": {},
   "source": [
    "2. kandidatas į mero postą būtų išrinktas pirmajame rinkimų ture; "
   ]
  },
  {
   "cell_type": "code",
   "execution_count": null,
   "id": "f9295708",
   "metadata": {},
   "outputs": [
    {
     "name": "stdout",
     "output_type": "stream",
     "text": [
      "Rengiami pakartotiniai mero rinkimai (tik 2 kandidatai ir nė vienas negavo reikiamo balsų skaičiaus)\n"
     ]
    }
   ],
   "source": [
    "#we create function that evaluates mayoral election based on Lithuanian single-member district rules(majority system)\n",
    "def mayor_election(total_voters, voters_participated, candidates_votes):\n",
    "    \"\"\"\n",
    "    Parameters:\n",
    "    - total_voters (int): total number of registered voters in the district\n",
    "    - voters_participated (int): number of voters who participated\n",
    "    - candidates_votes (list of tuples): each tuple is (candidate_name, votes_received)\n",
    "\n",
    "    Returns:\n",
    "    - str: Election result or next step\n",
    "    \"\"\"\n",
    "\n",
    "    # Calculate participation percentage\n",
    "    participation_percentage = (voters_participated / total_voters) * 100\n",
    "\n",
    "    # Thresholds\n",
    "    majority_threshold = voters_participated / 2       # More than half of participants\n",
    "    one_fifth_threshold = total_voters / 5             # At least 1/5 of all registered voters\n",
    "\n",
    "    # Sort candidates by votes_received (highest first)\n",
    "    candidates_votes.sort(key=lambda x: x[1], reverse=True)\n",
    "    top_candidate = candidates_votes[0]\n",
    "\n",
    "    # Rule 1: If at least 40% of total_voters participated\n",
    "    if participation_percentage >= 40:\n",
    "        if top_candidate[1] > majority_threshold:\n",
    "            return f\"Savyvaldybes meru išrinktas kandidatas: {top_candidate[0]}\"\n",
    "        else:\n",
    "            if len(candidates_votes) == 2:\n",
    "                return \"Rengiami pakartotiniai mero rinkimai (tik 2 kandidatai ir nė vienas negavo daugumos)\"\n",
    "            else:\n",
    "                return f\"Rengiamas antras rinkimu turas tarp dvieju stipriausiu kandidatu: {candidates_votes[0][0]} ir {candidates_votes[1][0]}\"\n",
    "    \n",
    "    # Rule 2: If less than 40% of total_voters participated\n",
    "    else:\n",
    "        if top_candidate[1] >= one_fifth_threshold:\n",
    "            return f\"Savyvaldybes meru išrinktas kandidatas: {top_candidate[0]}\"\n",
    "        else:\n",
    "            if len(candidates_votes) == 2:\n",
    "                return \"Rengiami pakartotiniai mero rinkimai (tik 2 kandidatai ir nė vienas negavo reikiamo balsų skaičiaus)\"\n",
    "            else:\n",
    "                return f\"Rengiamas antras rinkimu turas tarp dvieju stipriausiu kandidatu: {candidates_votes[0][0]} ir {candidates_votes[1][0]}\"\n",
    "\n",
    "#here we input total_voters, voters_participated, candidates_votes\n",
    "total_voters=int(input('Kiek savivaldybei yra uzregistruotu rinkeju?'))\n",
    "voters_participated=int(input('Kiek rinkeju dalyvavo rinkimuose?'))\n",
    "candidates_votes=[]\n",
    "while True:\n",
    "    surname = input(\"Įveskite kandidato pavarde (arba 'stop' jei baigėte): \")\n",
    "    if surname.lower() == \"stop\":\n",
    "        break\n",
    "    votes = int(input(f\"Kiek balsų gavo {surname}? \"))\n",
    "    candidates_votes.append((surname, votes))\n",
    "\n",
    "print(mayor_election(total_voters, voters_participated, candidates_votes))"
   ]
  },
  {
   "cell_type": "markdown",
   "id": "abb58a88",
   "metadata": {},
   "source": [
    "3. kandidatas į Seimo nario postą būtų išrinktas vienmandatėje apygardoje pirmajame rinkimų \n",
    "ture; "
   ]
  },
  {
   "cell_type": "code",
   "execution_count": null,
   "id": "a381e855",
   "metadata": {},
   "outputs": [],
   "source": [
    "# function evaluates Seimas MP election in a single-member district based on two-round majority system.\n",
    "def seimas_election(total_voters, voters_participated, candidates_votes):\n",
    "    \"\"\"\n",
    "       Parameters:\n",
    "    - total_voters (int): Total number of registered voters in district- Vienmandatine apygarda\n",
    "    - voters_participated (int): Number of voters who participated\n",
    "    - candidates_votes (list of tuples): Each tuple is (candidate_surname, votes_received)\n",
    "\n",
    "    Returns:\n",
    "    - str: Election result or next step\n",
    "    \"\"\"\n",
    "\n",
    "    # Calculate thresholds\n",
    "    participation_percent = (voters_participated / total_voters) * 100\n",
    "    majority_threshold = voters_participated / 2\n",
    "    one_fifth_threshold = total_voters * 0.2  # 20% of total registered voters\n",
    "\n",
    "    # Sort candidates by votes in descending order\n",
    "    candidates_votes.sort(key=lambda x: x[1], reverse=True)\n",
    "    top_candidate = candidates_votes[0]\n",
    "\n",
    "    # Rule 1: If participation is at least 40%\n",
    "    if participation_percent >= 40:\n",
    "        if top_candidate[1] > majority_threshold:\n",
    "            return f\"Išrinktas kandidatas: {top_candidate[0]}\"\n",
    "        else:\n",
    "            return f\"Rengiamas antras turas tarp: {candidates_votes[0][0]} ir {candidates_votes[1][0]}\"\n",
    "    \n",
    "    # Rule 2: If participation is less than 40%\n",
    "    else:\n",
    "        if top_candidate[1] >= one_fifth_threshold:\n",
    "            return f\"Išrinktas kandidatas: {top_candidate[0]}\"\n",
    "        else:\n",
    "            return f\"Rengiamas antras turas tarp: {candidates_votes[0][0]} ir {candidates_votes[1][0]}\"\n",
    "        \n",
    "#here we input total_voters, voters_participated, candidates_votes\n",
    "total_voters=int(input('Kiek apygardoi yra uzregistruotu rinkeju?'))\n",
    "voters_participated=int(input('Kiek rinkeju dalyvavo rinkimuose?'))\n",
    "candidates_votes=[]\n",
    "while True:\n",
    "    surname = input(\"Įveskite kandidato pavarde (arba 'stop' jei baigėte): \")\n",
    "    if surname.lower() == \"stop\":\n",
    "        break\n",
    "    votes = int(input(f\"Kiek balsų gavo {surname}? \"))\n",
    "    candidates_votes.append((surname, votes))\n",
    "\n",
    "print(seimas_election(total_voters, voters_participated, candidates_votes))\n"
   ]
  },
  {
   "cell_type": "markdown",
   "id": "445e297d",
   "metadata": {},
   "source": [
    "4. konsultaciniame referendume būtų sėkmingai pritarta referendumui pateikto sprendimo \n",
    "priėmimui; "
   ]
  },
  {
   "cell_type": "code",
   "execution_count": null,
   "id": "f8e90b5e",
   "metadata": {},
   "outputs": [],
   "source": []
  },
  {
   "cell_type": "markdown",
   "id": "874285c8",
   "metadata": {},
   "source": [
    "5. privalomajame referendume būtų sėkmingai pritarta referendumui pateikto sprendimo \n",
    "priėmimui; "
   ]
  },
  {
   "cell_type": "markdown",
   "id": "b5ef688c",
   "metadata": {},
   "source": []
  },
  {
   "cell_type": "markdown",
   "id": "c2da9b9d",
   "metadata": {},
   "source": [
    "6. privalomajame referendume būtų sėkmingai pritarta dėl Konstitucijos XIV skirsnio nuostatų \n",
    "pakeitimo;"
   ]
  },
  {
   "cell_type": "code",
   "execution_count": null,
   "id": "cbe2b164",
   "metadata": {},
   "outputs": [],
   "source": [
    " "
   ]
  },
  {
   "cell_type": "markdown",
   "id": "e189731c",
   "metadata": {},
   "source": [
    "7. privalomajame referendume būtų sėkmingai pritarta dėl Konstitucijos 1 straipsnio nuostatos \n",
    "pakeitimo."
   ]
  },
  {
   "cell_type": "code",
   "execution_count": null,
   "id": "5d63e991",
   "metadata": {},
   "outputs": [],
   "source": []
  }
 ],
 "metadata": {
  "kernelspec": {
   "display_name": "Python 3",
   "language": "python",
   "name": "python3"
  },
  "language_info": {
   "codemirror_mode": {
    "name": "ipython",
    "version": 3
   },
   "file_extension": ".py",
   "mimetype": "text/x-python",
   "name": "python",
   "nbconvert_exporter": "python",
   "pygments_lexer": "ipython3",
   "version": "3.10.11"
  }
 },
 "nbformat": 4,
 "nbformat_minor": 5
}
