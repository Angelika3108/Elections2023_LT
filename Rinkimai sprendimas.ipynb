{
 "cells": [
  {
   "cell_type": "markdown",
   "id": "28b794a8",
   "metadata": {},
   "source": [
    "Junior \n",
    " \n",
    "Naudodamiesi R arba Python programavimo kalbomis bei aktualiais Lietuvos respublikos įstatymais \n",
    "dvimatėje erdvėje pavaizduokite sąlygas, kurios yra būtinos, kad:  \n",
    "Rezultatus pateikite taip, kad jie būtų suprantami ne tik specialistui.\n",
    " \n",
    "1. kandidatas į Lietuvos Respublikos Prezidentus būtų išrinktas pirmajame rinkimų ture; \n"
   ]
  },
  {
   "cell_type": "code",
   "execution_count": null,
   "id": "20ed5a2a",
   "metadata": {},
   "outputs": [
    {
     "name": "stdout",
     "output_type": "stream",
     "text": [
      "Išrinktas kandidatas: Salnis\n"
     ]
    }
   ],
   "source": [
    "#padarom funkcija kuri apskaicios ar kuris nors kandidatas laimejo 1m ture\n",
    "def prezidento_rinkimai(viso_rinkeju_salyje, rinkeju_dalyvavo, kandidatas_balsu):\n",
    "    \"\"\"\n",
    "    viso_rinkeju_salyje: int - kiek salyje yra rinkeju\n",
    "    rinkeju_dalyvavo: int - kiek balsavo rinkimose\n",
    "    kandidatas_balsu: list of tuples - kandidatu sarasas su tokias tuples: (kandidato_pavarde, balsu_gavo)\n",
    "    \"\"\"\n",
    "    daugumos_riba = rinkeju_dalyvavo / 2\n",
    "    tresdales_riba = viso_rinkeju_salyje / 3\n",
    "\n",
    "    kandidatas_balsu.sort(key=lambda x: x[1], reverse=True)  # surikiuojame kandidatu sarasa pagal balsus\n",
    "    laimetojas = kandidatas_balsu[0] # kandidatas su daugiausiai balsu bus 1s sarase\n",
    "\n",
    "    if rinkeju_dalyvavo >= viso_rinkeju_salyje / 2:\n",
    "        # rinkimose dalyvalo daugiau nei 50% rinkeju\n",
    "        if laimetojas[1] > daugumos_riba: #kandidatas gavo daugiau nei 50% balsu dalyvavusiu rinkeju \n",
    "            return f\"Išrinktas kandidatas: {laimetojas[0]}\"\n",
    "        else:\n",
    "            if len(kandidatas_balsu) == 2:\n",
    "                return \"Rengiami pakartotiniai rinkimai (tik 2 kandidatai ir nė vienas negavo daugumos)\"\n",
    "            else:\n",
    "                return f\"Rengiamas pakartotinis balsavimas tarp: {kandidatas_balsu[0][0]} ir {kandidatas_balsu[1][0]}\"\n",
    "    else:\n",
    "        # rinkimose dalyvalo mažiau nei 50% rinkeju\n",
    "        if laimetojas[1] >= tresdales_riba:\n",
    "            return f\"Išrinktas kandidatas: {laimetojas[0]}\"\n",
    "        else:\n",
    "            if len(kandidatas_balsu) == 2:\n",
    "                return \"Rengiami pakartotiniai rinkimai (tik 2 kandidatai ir nė vienas negavo daugumos)\"\n",
    "            else:\n",
    "                return f\"Rengiamas pakartotinis balsavimas tarp: {kandidatas_balsu[0][0]} ir {kandidatas_balsu[1][0]}\"\n",
    "\n",
    "#cia ivedam duomenys apie rinkeju skaiciu, ir kiek balsu gavo koks kandidatas\n",
    "viso_rinkeju_salyje=int(input('Kiek salyje yra uzregistruotu rinkeju?'))\n",
    "rinkeju_dalyvavo=int(input('Kiek rinkeju dalyvavo rinkimuose?'))\n",
    "kandidatas_balsu=[]\n",
    "while True:\n",
    "    pavarde = input(\"Įveskite kandidato pavarde (arba 'stop' jei baigėte): \")\n",
    "    if pavarde.lower() == \"stop\":\n",
    "        break\n",
    "\n",
    "    balsu_input = input(f\"Kiek balsų gavo {pavarde}? \")\n",
    "    balsu = int(balsu_input)\n",
    "    kandidatas_balsu.append((pavarde, balsu))\n",
    "\n",
    "print(prezidento_rinkimai(viso_rinkeju_salyje, rinkeju_dalyvavo, kandidatas_balsu))"
   ]
  },
  {
   "cell_type": "markdown",
   "id": "fca232c9",
   "metadata": {},
   "source": [
    "2. kandidatas į mero postą būtų išrinktas pirmajame rinkimų ture; \n",
    "viso_rinkeju= kiek yra registruotu rinkeju savivaldybei\n",
    "Pirmajame ture kandidatas išrenkamas, jei surenka daugiau nei pusę balsų. Jei rinkimuose dalyvauja mažiau nei 40 proc. rinkėjų, kandidatas turi surinkti bent 20 proc. visų rinkėjų balsų. Jei pirmame ture nei vienas kandidatas nesurenka reikiamo kiekio balsų, antrame ture rinkėjai renkasi iš dviejų, daugiausia balsų pirmajame ture surinkusių kandidatų."
   ]
  },
  {
   "cell_type": "code",
   "execution_count": null,
   "id": "f9295708",
   "metadata": {},
   "outputs": [],
   "source": []
  },
  {
   "cell_type": "markdown",
   "id": "abb58a88",
   "metadata": {},
   "source": [
    "3. kandidatas į Seimo nario postą būtų išrinktas vienmandatėje apygardoje pirmajame rinkimų \n",
    "ture; "
   ]
  },
  {
   "cell_type": "code",
   "execution_count": null,
   "id": "a381e855",
   "metadata": {},
   "outputs": [],
   "source": []
  },
  {
   "cell_type": "markdown",
   "id": "445e297d",
   "metadata": {},
   "source": [
    "4. konsultaciniame referendume būtų sėkmingai pritarta referendumui pateikto sprendimo \n",
    "priėmimui; \n",
    "5. privalomajame referendume būtų sėkmingai pritarta referendumui pateikto sprendimo \n",
    "priėmimui; \n",
    "6. privalomajame referendume būtų sėkmingai pritarta dėl Konstitucijos XIV skirsnio nuostatų \n",
    "pakeitimo; \n",
    "7. privalomajame referendume būtų sėkmingai pritarta dėl Konstitucijos 1 straipsnio nuostatos \n",
    "pakeitimo."
   ]
  },
  {
   "cell_type": "code",
   "execution_count": null,
   "id": "f8e90b5e",
   "metadata": {},
   "outputs": [],
   "source": []
  }
 ],
 "metadata": {
  "kernelspec": {
   "display_name": "Python 3",
   "language": "python",
   "name": "python3"
  },
  "language_info": {
   "codemirror_mode": {
    "name": "ipython",
    "version": 3
   },
   "file_extension": ".py",
   "mimetype": "text/x-python",
   "name": "python",
   "nbconvert_exporter": "python",
   "pygments_lexer": "ipython3",
   "version": "3.10.11"
  }
 },
 "nbformat": 4,
 "nbformat_minor": 5
}
