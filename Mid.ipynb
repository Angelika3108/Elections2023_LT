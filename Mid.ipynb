{
 "cells": [
  {
   "cell_type": "markdown",
   "id": "1835a964",
   "metadata": {},
   "source": [
    "Mid-level\n",
    "Pasinaudodami Vyriausiosios rinkimų komisijos valdomu API gaukite 2023 m. savivaldybių tarybų ir\n",
    "merų rinkimų II turo duomenis, kuriais naudodamiesi:\n",
    "1. raskite kandidatus, kurių gauto palaikymo dalis, skirta balsais paštu, buvo statistiškai\n",
    "reikšmingai didesnė, lyginant su jų konkurentais toje pačioje rinkimų apygardoje tame\n",
    "pačiame rinkimų ture;"
   ]
  },
  {
   "cell_type": "code",
   "execution_count": null,
   "id": "ded65e09",
   "metadata": {},
   "outputs": [],
   "source": []
  },
  {
   "cell_type": "markdown",
   "id": "17424cfa",
   "metadata": {},
   "source": [
    "2. žemėlapyje pavaizduokite rinkimų apylinkes ir partijas, kurių kandidatų tose apylinkėse gauto\n",
    "palaikymo dalis, skirta balsais paštu, buvo statistiškai reikšmingai didesnė, lyginant su jų\n",
    "konkurentais toje pačioje rinkimų apylinkėje tame pačiame rinkimų ture."
   ]
  },
  {
   "cell_type": "code",
   "execution_count": null,
   "id": "d0e94f94",
   "metadata": {},
   "outputs": [],
   "source": []
  }
 ],
 "metadata": {
  "language_info": {
   "name": "python"
  }
 },
 "nbformat": 4,
 "nbformat_minor": 5
}
