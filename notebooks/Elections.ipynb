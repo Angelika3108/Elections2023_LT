{
 "cells": [
  {
   "cell_type": "markdown",
   "id": "28b794a8",
   "metadata": {},
   "source": [
    "Using Python conditions if...else, made evaluation if different types of elections and referendums.\n",
    "According to Lithuanian electorial laws.\n",
    " \n",
    "1. Presindent of Lithuanian elections \n"
   ]
  },
  {
   "cell_type": "code",
   "execution_count": 1,
   "id": "355d64f9",
   "metadata": {},
   "outputs": [
    {
     "name": "stdout",
     "output_type": "stream",
     "text": [
      "New elected Lithuanian presindent is Uckuronis\n"
     ]
    }
   ],
   "source": [
    "#presidential election based on Lithuanian rules(majority system)\n",
    "\n",
    "total_voters=int(input('What is the number of registered voters in Lithuania?'))\n",
    "voters_participated=int(input('How many voters participated in elections?')) \n",
    "candidates_votes=[] #(list of tuples): Each tuple is (candidate_surname, votes_received)\n",
    "\n",
    "while True:\n",
    "    surname = input(\"Enter candidate's surname (or 'stop' to exit): \")\n",
    "    if surname.lower() == \"stop\":\n",
    "        break\n",
    "    votes = int(input(f\"How many votes got {surname}? \"))\n",
    "    candidates_votes.append((surname, votes))\n",
    "\n",
    "# Calculate the thresholds\n",
    "majority_threshold = voters_participated / 2  # More than half of voters_participated\n",
    "one_third_threshold = total_voters / 3        # At least one-third of total-voters\n",
    "\n",
    "# Sort candidates tuples by votes_received in descending order\n",
    "candidates_votes.sort(key=lambda x: x[1], reverse=True)\n",
    "\n",
    "# Get the top (most voted) candidate\n",
    "top_candidate = candidates_votes[0]\n",
    "\n",
    "# Check if at least 50% half of total_voters participated\n",
    "if voters_participated >= total_voters / 2:\n",
    "    # If top candidate got more than half of voters_participated\n",
    "    if top_candidate[1] > majority_threshold:\n",
    "        print(f\"New elected Lithuanian presindent is {top_candidate[0]}\") # Elected\n",
    "    else:\n",
    "        # If no candidate got more than half voters_participated, check number of candidates\n",
    "        if len(candidates_votes) == 2:\n",
    "            print(\"Elections will be arranged anew (only 2 candidates and not 1 got majority votes)\")\n",
    "        else:\n",
    "            # Second round of election between top two candidates\n",
    "            print(f\"2nd round of elections will be held between 2 strongest candidates: {candidates_votes[0][0]} and {candidates_votes[1][0]}\")\n",
    "else: # If less than 50% of total_voters participated\n",
    "    #if top candidate got more than one-third of voters_participated\n",
    "    if top_candidate[1] >= one_third_threshold:\n",
    "        print(f\"New elected Lithuanian presindent is {top_candidate[0]}\")  # Elected\n",
    "    else:\n",
    "        if len(candidates_votes) == 2:\n",
    "            print(\"Elections will be arranged anew (only 2 candidates and not 1 got majority votes)\")\n",
    "        else:\n",
    "            print(f\"2nd round of elections will be held between 2 strongest candidates: {candidates_votes[0][0]} and {candidates_votes[1][0]}\")"
   ]
  },
  {
   "cell_type": "markdown",
   "id": "fca232c9",
   "metadata": {},
   "source": [
    "2. Mayor of uninominal municipality elections "
   ]
  },
  {
   "cell_type": "code",
   "execution_count": 2,
   "id": "f9295708",
   "metadata": {},
   "outputs": [
    {
     "name": "stdout",
     "output_type": "stream",
     "text": [
      "New mayor of minicipality is Kuncinaite\n"
     ]
    }
   ],
   "source": [
    "#mayoral election based on Lithuanian uninominal municipality rules(majority system)\n",
    "total_voters=int(input('What is the number of registered voters in municipality?'))\n",
    "voters_participated=int(input('How many voters participated in elections?')) \n",
    "candidates_votes=[] #(list of tuples): Each tuple is (candidate_surname, votes_received)\n",
    "\n",
    "while True:\n",
    "    surname = input(\"Enter candidate's surname (or 'stop' to exit): \")\n",
    "    if surname.lower() == \"stop\":\n",
    "        break\n",
    "    votes = int(input(f\"How many votes got {surname}? \"))\n",
    "    candidates_votes.append((surname, votes))\n",
    "\n",
    "# Calculate participation percentage\n",
    "participation_percentage = (voters_participated / total_voters) * 100\n",
    "\n",
    "# Thresholds\n",
    "majority_threshold = voters_participated / 2       # More than half of participants\n",
    "one_fifth_threshold = total_voters / 5             # At least 1/5 of all registered voters\n",
    "\n",
    "# Sort candidates by votes_received (highest first)\n",
    "candidates_votes.sort(key=lambda x: x[1], reverse=True)\n",
    "top_candidate = candidates_votes[0]\n",
    "\n",
    "# Rule 1: If at least 40% of total_voters participated\n",
    "if participation_percentage >= 40:\n",
    "    if top_candidate[1] > majority_threshold:\n",
    "        print(f\"New mayor of minicipality is {top_candidate[0]}\")\n",
    "    else:\n",
    "        if len(candidates_votes) == 2:\n",
    "            print(\"Elections will be arranged anew (only 2 candidates and not 1 got majority votes)\")\n",
    "        else:\n",
    "            print(f\"2nd round of elections will be held between 2 strongest candidates: {candidates_votes[0][0]} and {candidates_votes[1][0]}\")\n",
    "\n",
    "# Rule 2: If less than 40% of total_voters participated\n",
    "else:\n",
    "    if top_candidate[1] >= one_fifth_threshold:\n",
    "        print(f\"New mayor of minicipality is {top_candidate[0]}\")\n",
    "    else:\n",
    "        if len(candidates_votes) == 2:\n",
    "            print(\"Elections will be arranged anew (only 2 candidates and not 1 got majority votes)\")\n",
    "        else:\n",
    "            print(f\"2nd round of elections will be held between 2 strongest candidates: {candidates_votes[0][0]} and {candidates_votes[1][0]}\")"
   ]
  },
  {
   "cell_type": "markdown",
   "id": "abb58a88",
   "metadata": {},
   "source": [
    "3. member of Seimas elections in uninominal district"
   ]
  },
  {
   "cell_type": "code",
   "execution_count": 3,
   "id": "a381e855",
   "metadata": {},
   "outputs": [
    {
     "name": "stdout",
     "output_type": "stream",
     "text": [
      "2nd round of elections will be held between Spokas and Dudoic\n"
     ]
    }
   ],
   "source": [
    "#Seimas MP election in a uninominal district based on two-round majority system.\n",
    "total_voters=int(input('What is the number of registered voters in district?'))\n",
    "voters_participated=int(input('How many voters participated in elections?')) \n",
    "candidates_votes=[] #(list of tuples): Each tuple is (candidate_surname, votes_received)\n",
    "\n",
    "while True:\n",
    "    surname = input(\"Enter candidate's surname (or 'stop' to exit): \")\n",
    "    if surname.lower() == \"stop\":\n",
    "        break\n",
    "    votes = int(input(f\"How many votes got {surname}? \"))\n",
    "    candidates_votes.append((surname, votes))\n",
    "\n",
    "# Calculate thresholds\n",
    "participation_percent = (voters_participated / total_voters) * 100\n",
    "majority_threshold = voters_participated / 2\n",
    "one_fifth_threshold = total_voters * 0.2  # 20% of total registered voters\n",
    "\n",
    "# Sort candidates by votes in descending order\n",
    "candidates_votes.sort(key=lambda x: x[1], reverse=True)\n",
    "top_candidate = candidates_votes[0]\n",
    "\n",
    "# Rule 1: If participation is at least 40%\n",
    "if participation_percent >= 40:\n",
    "    if top_candidate[1] > majority_threshold:\n",
    "        print(f\"Candidate {top_candidate[0]} was elected as member of Seimas\")\n",
    "    else:\n",
    "        print(f\"2nd round of elections will be held between {candidates_votes[0][0]} and {candidates_votes[1][0]}\")\n",
    "\n",
    "# Rule 2: If participation is less than 40%\n",
    "else:\n",
    "    if top_candidate[1] >= one_fifth_threshold:\n",
    "        print(f\"Candidate {top_candidate[0]} was elected as member of Seimas\")\n",
    "    else:\n",
    "        print(f\"2nd round of elections will be held between {candidates_votes[0][0]} and {candidates_votes[1][0]}\")"
   ]
  },
  {
   "cell_type": "markdown",
   "id": "445e297d",
   "metadata": {},
   "source": [
    "4. consultative referendum for accepting proposal into motion"
   ]
  },
  {
   "cell_type": "code",
   "execution_count": 4,
   "id": "f8e90b5e",
   "metadata": {},
   "outputs": [
    {
     "name": "stdout",
     "output_type": "stream",
     "text": [
      "Referendum is valid. Proposal accepted. Seimas must put it into motion in 1 month.\n"
     ]
    }
   ],
   "source": [
    "#evaluates whether a consultative (advisory) referendum is valid and adopted.\n",
    "total_voters=int(input('What is the number of registered voters in Lithuania?'))\n",
    "voters_participated=int(input('How many voters participated in referendum?')) \n",
    "yes_votes=int(input('How many voted YES on referendum?')) \n",
    "\n",
    "# Calculate percentages\n",
    "participation_percent = (voters_participated / total_voters) * 100\n",
    "yes_vote_percent = (yes_votes / voters_participated) * 100 \n",
    "\n",
    "# Check if more than 50% participated\n",
    "if participation_percent > 50:\n",
    "    if yes_vote_percent >= 50:\n",
    "        print(\"Referendum is valid. Proposal accepted. Seimas must put it into motion in 1 month.\")\n",
    "    else:\n",
    "        print(\"Referendum is valid. Proposal was not accepted (not enough voted YES).\")\n",
    "else:\n",
    "    print(\"Referendum is not valid (not enough voters participated).\")"
   ]
  },
  {
   "cell_type": "markdown",
   "id": "874285c8",
   "metadata": {},
   "source": [
    "5. mandatory referendum for accepting proposal into motion"
   ]
  },
  {
   "cell_type": "code",
   "execution_count": 5,
   "id": "f675652c",
   "metadata": {},
   "outputs": [
    {
     "name": "stdout",
     "output_type": "stream",
     "text": [
      "Referendum is not valid (not enough voters participated).\n"
     ]
    }
   ],
   "source": [
    "#Evaluates a mandatory referendum's result\n",
    "total_voters=int(input('What is the number of registered voters in Lithuania?'))\n",
    "voters_participated=int(input('How many voters participated in referendum?')) \n",
    "yes_votes=int(input('How many voted YES on referendum?'))\n",
    "\n",
    "# Calculate percentages\n",
    "participation = (voters_participated / total_voters) * 100\n",
    "yes_votes_percent = (yes_votes / voters_participated) * 100 \n",
    "yes_absolute_threshold = total_voters / 3  # At least 1/3 of all registered voters\n",
    "\n",
    "# Step 1: Check if referendum is valid\n",
    "if participation > 50:\n",
    "    # Step 2: Check if the decision is adopted\n",
    "    if yes_votes_percent > 50 and yes_votes >= yes_absolute_threshold:\n",
    "        print(\"Referendum is valid. Proposal accepted.\")\n",
    "    else:\n",
    "        print(\"Referendum is valid. Proposal was not accepted (not enough voted YES).\")\n",
    "else:\n",
    "    print(\"Referendum is not valid (not enough voters participated).\")"
   ]
  },
  {
   "cell_type": "markdown",
   "id": "c2da9b9d",
   "metadata": {},
   "source": [
    "6. mandatory constitutional referendum for accepting proposal for change of Constitution 14th section\n"
   ]
  },
  {
   "cell_type": "code",
   "execution_count": 6,
   "id": "652f1584",
   "metadata": {},
   "outputs": [
    {
     "name": "stdout",
     "output_type": "stream",
     "text": [
      "Referendum is valid. Constitution change is not accepted (not enough voted YES).\n"
     ]
    }
   ],
   "source": [
    "#Evaluates a mandatory constitutional referendum (XIV section) for Lithuania \n",
    "total_voters=int(input('What is the number of registered voters in Lithuania?'))\n",
    "voters_participated=int(input('How many voters participated in referendum?')) \n",
    "yes_votes=int(input('How many voted YES for change of Constitution 14th section?'))\n",
    "\n",
    "# Calculate participation percentage\n",
    "participation = (voters_participated / total_voters) * 100\n",
    "yes_percent = (yes_votes / total_voters) * 100\n",
    "\n",
    "# Step 1: Check if referendum is valid (more than 50% participation)\n",
    "if participation > 50:\n",
    "    # Step 2: Check if the decision was adopted (more than 50% of all registered voters voted \"yes\")\n",
    "    if yes_percent > 50:\n",
    "        print(\"Referendum is valid. Constitution change is accepted.\")\n",
    "    else:\n",
    "        print(\"Referendum is valid. Constitution change is not accepted (not enough voted YES).\")\n",
    "else:\n",
    "    print(\"Referendum is not valid (not enough voters participated).\")"
   ]
  },
  {
   "cell_type": "markdown",
   "id": "e189731c",
   "metadata": {},
   "source": [
    "7. mandatory constitutional referendum for accepting proposal for change of Constitution 1st article"
   ]
  },
  {
   "cell_type": "code",
   "execution_count": 7,
   "id": "5d63e991",
   "metadata": {},
   "outputs": [
    {
     "name": "stdout",
     "output_type": "stream",
     "text": [
      "Referendum is valid. Constitution change is not accepted (not enough voted YES).\n"
     ]
    }
   ],
   "source": [
    "#Evaluates a high-threshold mandatory referendum (e.g., on Constitution Article 1 of Lithuania).\n",
    "total_voters=int(input('What is the number of registered voters in Lithuania?'))\n",
    "voters_participated=int(input('How many voters participated in referendum?')) \n",
    "yes_votes=int(input('How many voted YES for change of Constitution Article 1 of Lithuania?'))\n",
    "\n",
    "# Calculate percentage\n",
    "participation = (voters_participated / total_voters) * 100\n",
    "yes_percent = (yes_votes / total_voters) * 100\n",
    "\n",
    "# Step 1: Check if referendum is valid (more than 50% turnout)\n",
    "if participation > 50:\n",
    "    # Step 2: Check if decision passed (at least 75% of all voters said \"yes\")\n",
    "    if yes_percent >= 75:\n",
    "        print(\"Referendum is valid. Constitution change is accepted (3/4 of all voters said YES).\")\n",
    "    else:\n",
    "        print(\"Referendum is valid. Constitution change is not accepted (not enough voted YES).\")\n",
    "else:\n",
    "    print(\"Referendum is not valid (not enough voters participated).\")"
   ]
  }
 ],
 "metadata": {
  "kernelspec": {
   "display_name": "Python 3",
   "language": "python",
   "name": "python3"
  },
  "language_info": {
   "codemirror_mode": {
    "name": "ipython",
    "version": 3
   },
   "file_extension": ".py",
   "mimetype": "text/x-python",
   "name": "python",
   "nbconvert_exporter": "python",
   "pygments_lexer": "ipython3",
   "version": "3.10.11"
  }
 },
 "nbformat": 4,
 "nbformat_minor": 5
}
